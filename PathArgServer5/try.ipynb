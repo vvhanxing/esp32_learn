{
 "cells": [
  {
   "cell_type": "code",
   "execution_count": 2,
   "metadata": {},
   "outputs": [],
   "source": [
    "import requests\n",
    "import sys\n",
    "from PIL import Image\n",
    "from io import BytesIO"
   ]
  },
  {
   "cell_type": "code",
   "execution_count": null,
   "metadata": {},
   "outputs": [],
   "source": [
    "\n",
    "def processImage(in_file, saveImg=True,resaize = False):\n",
    "    try:\n",
    "        if \"gif\"  in in_file:\n",
    "            im = Image.open(in_file)\n",
    "        else:\n",
    "            im = Image.open(in_file)\n",
    "\n",
    "    except IOError:\n",
    "        print(\"Cant load\", in_file)\n",
    "        sys.exit(1)\n",
    "\n",
    "    # 截取文件名\n",
    "    filename = in_file.split('.')[0]\n",
    "\n",
    "    i = 0\n",
    "    #if \"gif\"  in in_file:\n",
    "        #mypalette = im.getpalette()\n",
    "\n",
    "    arr_name_all = ''  # 存取数组\n",
    "    arr_size_all = ''  # 存储数组容量\n",
    "\n",
    "\n",
    "    with open(filename + '.h', 'w', encoding='utf-8') as f:  # 写入文件\n",
    "        f.write('#include <pgmspace.h> \\n\\n')\n",
    "  \n",
    "        print('.', end=\"\")\n",
    "        #if \"gif\"  in in_file:\n",
    "            #im.putpalette(mypalette)\n",
    "        new_im = Image.new(\"RGB\", im.size)\n",
    "        new_im.paste(im)\n",
    "\n",
    "        # 缩放图像，\n",
    "        if resaize:\n",
    "            width = new_im.size[0]  # 获取原始图像宽度\n",
    "            height = new_im.size[1]  # 获取原始图像高度\n",
    "            new_width = 10  # 等比例缩放后的图像高度，根据实际需要调整\n",
    "            # print(width, \" \", height)\n",
    "            if width > new_width:\n",
    "                ratio = round(new_width / width, 3)  # 缩放系数\n",
    "                new_im = new_im.resize((int(width * ratio)+1, int(height * ratio)+1), Image.ANTIALIAS)\n",
    "                print(\"new size w,h\",int(width * ratio), int(height * ratio))\n",
    "            \n",
    "        # 获取图像字节流，转16进制格式\n",
    "        img_byte = BytesIO()  # 获取字节流\n",
    "        new_im.save(img_byte, format='jpeg')\n",
    "        print(\"============================\")\n",
    "        print(img_byte.getvalue())\n",
    "        print(\"============================\")\n",
    "    return img_byte.getvalue()"
   ]
  }
 ],
 "metadata": {
  "kernelspec": {
   "display_name": "base",
   "language": "python",
   "name": "python3"
  },
  "language_info": {
   "codemirror_mode": {
    "name": "ipython",
    "version": 3
   },
   "file_extension": ".py",
   "mimetype": "text/x-python",
   "name": "python",
   "nbconvert_exporter": "python",
   "pygments_lexer": "ipython3",
   "version": "3.8.13"
  },
  "orig_nbformat": 4
 },
 "nbformat": 4,
 "nbformat_minor": 2
}
