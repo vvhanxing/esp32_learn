{
 "cells": [
  {
   "cell_type": "code",
   "execution_count": 1,
   "metadata": {},
   "outputs": [],
   "source": [
    "import requests\n",
    "import sys\n",
    "from PIL import Image\n",
    "from io import BytesIO"
   ]
  },
  {
   "cell_type": "code",
   "execution_count": 13,
   "metadata": {},
   "outputs": [
    {
     "name": "stdout",
     "output_type": "stream",
     "text": [
      "new size w,h 239 239\n",
      "new size w,h 239 239\n",
      "new size w,h 239 239\n",
      "new size w,h 239 239\n",
      "new size w,h 239 239\n",
      "new size w,h 239 239\n",
      "new size w,h 239 239\n",
      "new size w,h 239 239\n",
      "new size w,h 239 239\n",
      "new size w,h 239 239\n",
      "new size w,h 239 239\n",
      "new size w,h 239 239\n",
      "new size w,h 239 239\n",
      "new size w,h 239 239\n",
      "new size w,h 239 239\n",
      "new size w,h 239 239\n",
      "new size w,h 239 239\n",
      "new size w,h 239 239\n",
      "new size w,h 239 239\n",
      "new size w,h 239 239\n",
      "new size w,h 239 239\n",
      "new size w,h 239 239\n",
      "new size w,h 239 239\n",
      "new size w,h 239 239\n",
      "new size w,h 239 239\n",
      "new size w,h 239 239\n",
      "new size w,h 239 239\n",
      "new size w,h 239 239\n",
      "new size w,h 239 239\n",
      "new size w,h 239 239\n",
      "new size w,h 239 239\n",
      "new size w,h 239 239\n",
      "new size w,h 239 239\n",
      "new size w,h 239 239\n",
      "new size w,h 239 239\n",
      "new size w,h 239 239\n",
      "new size w,h 239 239\n",
      "new size w,h 239 239\n",
      "new size w,h 239 239\n",
      "new size w,h 239 239\n",
      "new size w,h 239 239\n",
      "new size w,h 239 239\n",
      "new size w,h 239 239\n",
      "new size w,h 239 239\n",
      "new size w,h 239 239\n",
      "new size w,h 239 239\n",
      "new size w,h 239 239\n",
      "new size w,h 239 239\n",
      "new size w,h 239 239\n",
      "new size w,h 239 239\n",
      "new size w,h 239 239\n",
      "new size w,h 239 239\n",
      "new size w,h 239 239\n",
      "new size w,h 239 239\n",
      "new size w,h 239 239\n",
      "new size w,h 239 239\n",
      "new size w,h 239 239\n",
      "new size w,h 239 239\n",
      "new size w,h 239 239\n",
      "new size w,h 239 239\n",
      "new size w,h 239 239\n",
      "new size w,h 239 239\n",
      "new size w,h 239 239\n",
      "new size w,h 239 239\n",
      "new size w,h 239 239\n",
      "new size w,h 239 239\n",
      "new size w,h 239 239\n",
      "new size w,h 239 239\n",
      "new size w,h 239 239\n",
      "new size w,h 239 239\n",
      "new size w,h 239 239\n",
      "new size w,h 239 239\n",
      "new size w,h 239 239\n",
      "new size w,h 239 239\n",
      "new size w,h 239 239\n",
      "new size w,h 239 239\n",
      "new size w,h 239 239\n",
      "new size w,h 239 239\n",
      "new size w,h 239 239\n",
      "new size w,h 239 239\n",
      "new size w,h 239 239\n",
      "new size w,h 239 239\n",
      "new size w,h 239 239\n",
      "new size w,h 239 239\n",
      "new size w,h 239 239\n",
      "new size w,h 239 239\n",
      "new size w,h 239 239\n",
      "new size w,h 239 239\n",
      "new size w,h 239 239\n",
      "new size w,h 239 239\n",
      "new size w,h 239 239\n",
      "new size w,h 239 239\n",
      "new size w,h 239 239\n",
      "new size w,h 239 239\n",
      "new size w,h 239 239\n",
      "new size w,h 239 239\n",
      "new size w,h 239 239\n",
      "new size w,h 239 239\n",
      "new size w,h 239 239\n",
      "new size w,h 239 239\n",
      "new size w,h 239 239\n",
      "new size w,h 239 239\n",
      "new size w,h 239 239\n",
      "new size w,h 239 239\n",
      "new size w,h 239 239\n",
      "new size w,h 239 239\n",
      "new size w,h 239 239\n",
      "new size w,h 239 239\n",
      "new size w,h 239 239\n",
      "new size w,h 239 239\n",
      "new size w,h 239 239\n",
      "new size w,h 239 239\n",
      "new size w,h 239 239\n",
      "new size w,h 239 239\n",
      "new size w,h 239 239\n",
      "new size w,h 239 239\n",
      "new size w,h 239 239\n",
      "new size w,h 239 239\n",
      "new size w,h 239 239\n",
      "new size w,h 239 239\n"
     ]
    }
   ],
   "source": [
    "from moviepy.editor import VideoFileClip\n",
    "from PIL import Image\n",
    "\n",
    "clip1 = VideoFileClip('g2.mp4')\n",
    "i = 1\n",
    "for frame in clip1.iter_frames():\n",
    "    if i%1==0:\n",
    "        im = Image.fromarray(frame)\n",
    "        width = im.size[0]  # 获取原始图像宽度\n",
    "        height = im.size[1]  # 获取原始图像高度\n",
    "        new_width = 240  # 等比例缩放后的图像高度，根据实际需要调整\n",
    "        # print(width, \" \", height)\n",
    "    \n",
    "        ratio = round(new_width / width, 3)  # 缩放系数\n",
    "        new_im = im.resize((int(width * ratio)+1, int(height * ratio)+1), Image.ANTIALIAS)\n",
    "        print(\"new size w,h\",int(width * ratio), int(height * ratio))\n",
    "        \n",
    "\n",
    "\n",
    "\n",
    "        new_im = new_im.convert(\"RGB\")\n",
    "        new_im.save(\"./frame_image/your_file_%07d.jpg\" % i)\n",
    "    i = i+1"
   ]
  },
  {
   "cell_type": "code",
   "execution_count": 54,
   "metadata": {},
   "outputs": [
    {
     "name": "stdout",
     "output_type": "stream",
     "text": [
      "{'jfif': 257, 'jfif_version': (1, 1), 'jfif_unit': 0, 'jfif_density': (1, 1)}\n"
     ]
    }
   ],
   "source": [
    "from PIL import Image\n",
    "\n",
    "# 读取JPEG文件\n",
    "input_path = \"a2_pil.jpg\"\n",
    "im = Image.open(input_path)\n",
    "\n",
    "# 转换图像模式为RGB\n",
    "#im = im.convert(\"RGB\")\n",
    "#exif1 = im.info[\"exif\"]\n",
    "print(im.info)"
   ]
  },
  {
   "cell_type": "code",
   "execution_count": 53,
   "metadata": {},
   "outputs": [
    {
     "name": "stdout",
     "output_type": "stream",
     "text": [
      "{'jfif': 257, 'jfif_version': (1, 1), 'dpi': (96, 96), 'jfif_unit': 1, 'jfif_density': (96, 96), 'progressive': 1, 'progression': 1}\n",
      "Image saved successfully.\n"
     ]
    }
   ],
   "source": [
    "from PIL import Image\n",
    "\n",
    "# 读取JPEG文件\n",
    "input_path = \"a2_pil3.jpg\"\n",
    "im = Image.open(input_path)\n",
    "\n",
    "# 转换图像模式为RGB\n",
    "im = im.convert(\"RGB\")\n",
    "print(im.info)\n",
    "#exif2 = im.info[\"exif\"]\n",
    "# 保存为新的JPEG文件\n",
    "# output_path = \"a2_pil3.jpg\"\n",
    "# im.save(output_path)\n",
    "\n",
    "print(\"Image saved successfully.\")"
   ]
  },
  {
   "cell_type": "code",
   "execution_count": 41,
   "metadata": {},
   "outputs": [
    {
     "data": {
      "text/plain": [
       "True"
      ]
     },
     "execution_count": 41,
     "metadata": {},
     "output_type": "execute_result"
    }
   ],
   "source": [
    "exif1==exif2"
   ]
  },
  {
   "cell_type": "code",
   "execution_count": 24,
   "metadata": {},
   "outputs": [],
   "source": [
    "\n",
    "def processImage(in_file, saveImg=True,resaize = False):\n",
    "    try:\n",
    "        if \"gif\"  in in_file:\n",
    "            im = Image.open(in_file)\n",
    "        else:\n",
    "            im = Image.open(in_file)\n",
    "\n",
    "    except IOError:\n",
    "        print(\"Cant load\", in_file)\n",
    "        sys.exit(1)\n",
    "\n",
    "    # 截取文件名\n",
    "    filename = in_file.split('.')[0]\n",
    "\n",
    "    i = 0\n",
    "    #if \"gif\"  in in_file:\n",
    "        #mypalette = im.getpalette()\n",
    "\n",
    "    arr_name_all = ''  # 存取数组\n",
    "    arr_size_all = ''  # 存储数组容量\n",
    "\n",
    "\n",
    "    with open(filename + '.h', 'w', encoding='utf-8') as f:  # 写入文件\n",
    "        f.write('#include <pgmspace.h> \\n\\n')\n",
    "  \n",
    "        print('.', end=\"\")\n",
    "        #if \"gif\"  in in_file:\n",
    "            #im.putpalette(mypalette)\n",
    "        new_im = Image.new(\"RGB\", im.size)\n",
    "        new_im.paste(im)\n",
    "\n",
    "        # 缩放图像，\n",
    "        if resaize:\n",
    "            width = new_im.size[0]  # 获取原始图像宽度\n",
    "            height = new_im.size[1]  # 获取原始图像高度\n",
    "            new_width = 10  # 等比例缩放后的图像高度，根据实际需要调整\n",
    "            # print(width, \" \", height)\n",
    "            if width > new_width:\n",
    "                ratio = round(new_width / width, 3)  # 缩放系数\n",
    "                new_im = new_im.resize((int(width * ratio)+1, int(height * ratio)+1), Image.ANTIALIAS)\n",
    "                print(\"new size w,h\",int(width * ratio), int(height * ratio))\n",
    "            \n",
    "        # 获取图像字节流，转16进制格式\n",
    "        img_byte = BytesIO()  # 获取字节流\n",
    "        new_im.save(img_byte, format='jpeg')\n",
    "        print(\"============================\")\n",
    "        print(img_byte.getvalue())\n",
    "        print(\"============================\")\n",
    "    return img_byte.getvalue()"
   ]
  },
  {
   "cell_type": "code",
   "execution_count": 12,
   "metadata": {},
   "outputs": [
    {
     "name": "stdout",
     "output_type": "stream",
     "text": [
      "<Response [404]>\n",
      "{'User-Agent': 'python-requests/2.27.1', 'Accept-Encoding': 'gzip, deflate, br', 'Accept': '*/*', 'Connection': 'keep-alive', 'Content-Type': 'application/json', 'Content-Length': '25'}\n",
      ".b'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'\n"
     ]
    }
   ],
   "source": [
    "import requests\n",
    "# dic = {\n",
    "# \"info\":\n",
    "# \"\"\"ChatGPT4 is great,I love openAI !\"\"\"\n",
    "# }\n",
    "import sys\n",
    "data = {\n",
    "\"click_once_count\":\n",
    "\"4\"\n",
    "}\n",
    "\n",
    "for i in range(1):\n",
    "    url = 'http://192.168.43.153/info'\n",
    "    headers = {\"Content-Type\": \"application/json\"}\n",
    "    #dic[\"info\"]=  \" \"*i+\"\"\"ChatGPT4 is great,I love openAI !\"\"\"\n",
    "    response = requests.post(url, json=data,headers= headers)\n",
    "    print(response)\n",
    "    #print(response.headers)\n",
    "    print(response.request.headers)\n",
    "\n",
    "# url  ='http://192.168.43.247/showinfo'\n",
    "# response = requests.get(url)\n",
    "# print(response.json())\n",
    "\n",
    "# for i in range(1):\n",
    "#     r = requests.get(\"http://192.168.43.247/getinfo\")\n",
    "#     print(r.status_code)\n",
    "#     print(r.text)\n",
    "\n",
    "# encoding:utf-8\n",
    "import matplotlib.pyplot as plt\n",
    "#import cv2\n",
    "from io import BytesIO\n",
    "import base64\n",
    "\n",
    "\n",
    "def processImage(in_file, saveImg=True,resaize = False):\n",
    "    try:\n",
    "        if \"gif\"  in in_file:\n",
    "            im = Image.open(in_file)\n",
    "        else:\n",
    "            im = Image.open(in_file)\n",
    "\n",
    "    except IOError:\n",
    "        print(\"Cant load\", in_file)\n",
    "        sys.exit(1)\n",
    "\n",
    "    # 截取文件名\n",
    "    filename = in_file.split('.')[0]\n",
    "\n",
    "    i = 0\n",
    "    #if \"gif\"  in in_file:\n",
    "        #mypalette = im.getpalette()\n",
    "\n",
    "    arr_name_all = ''  # 存取数组\n",
    "    arr_size_all = ''  # 存储数组容量\n",
    "\n",
    "\n",
    "    with open(filename + '.h', 'w', encoding='utf-8') as f:  # 写入文件\n",
    "        f.write('#include <pgmspace.h> \\n\\n')\n",
    "  \n",
    "        print('.', end=\"\")\n",
    "        #if \"gif\"  in in_file:\n",
    "            #im.putpalette(mypalette)\n",
    "        new_im = Image.new(\"RGB\", im.size)\n",
    "        new_im.paste(im)\n",
    "\n",
    "        # 缩放图像，\n",
    "        if resaize:\n",
    "            width = new_im.size[0]  # 获取原始图像宽度\n",
    "            height = new_im.size[1]  # 获取原始图像高度\n",
    "            new_width = 10  # 等比例缩放后的图像高度，根据实际需要调整\n",
    "            # print(width, \" \", height)\n",
    "            if width > new_width:\n",
    "                ratio = round(new_width / width, 3)  # 缩放系数\n",
    "                new_im = new_im.resize((int(width * ratio)+1, int(height * ratio)+1), Image.ANTIALIAS)\n",
    "                print(\"new size w,h\",int(width * ratio), int(height * ratio))\n",
    "            \n",
    "        # 获取图像字节流，转16进制格式\n",
    "        img_byte = BytesIO()  # 获取字节流\n",
    "        new_im.save(img_byte, format='jpeg')\n",
    "        # print(\"============================\")\n",
    "        # print(img_byte.getvalue())\n",
    "        # print(\"============================\")\n",
    "    return img_byte.getvalue()\n",
    "\n",
    "\n",
    "import os\n",
    "#input()\n",
    "from PIL import Image\n",
    "import requests\n",
    "import base64\n",
    "# for i in range(1):\n",
    "#     # 打开图片文件，读取为字节流\n",
    "#     # with open('small.jpg', 'rb') as f:\n",
    "#     #     img_data = f.read()\n",
    "#     #     print(img_data)\n",
    "#     img_data = processImage('small.jpg')\n",
    "    \n",
    "#     # 将字节流转换为Base64编码的字符串\n",
    "#     img_str = base64.b64encode(img_data)\n",
    "#     print(len(img_str))\n",
    "#     # 构造POST请求，发送图片字符串到ESP32的IP地址\n",
    "#     url = 'http://192.168.43.247/upload_image2'\n",
    "#     img_str = \"\"\"/9j/4AAQSkZJRgABAQEBLAEsAAD\"\"\"\n",
    "#     data = {'image': img_str}\n",
    "#     print(\">>>>>>>>>data#\")\n",
    "#     print(data)\n",
    "#     HEADERS = {'user-agent': 'application/json'}\n",
    "#     response = requests.post(url,headers= HEADERS,data=data)\n",
    "\n",
    "\n",
    "#     # 输出ESP32的响应信息\n",
    "#     print(response.text)\n",
    "# input()\n",
    "resize_pic_dir = \"./pics_resize/\"\n",
    "for pic_name in os.listdir(resize_pic_dir):\n",
    "\n",
    "\n",
    "\n",
    "\n",
    "    #img = cv2.imread(resize_pic_dir+pic_name)\n",
    " \n",
    "    name = resize_pic_dir+pic_name\n",
    "\n",
    "    img_data = processImage(name)\n",
    "    \n",
    "    # 将字节流转换为Base64编码的字符串\n",
    "    #print(img_data)\n",
    "\n",
    "\n",
    "    img_str = base64.b64encode(img_data)\n",
    "    data = {'image': img_str}\n",
    "    # 构造POST请求，发送图片字符串到ESP32的IP地址\n",
    "    url = 'http://192.168.43.153/upload_image'\n",
    "    response = requests.post(url, data=data)\n",
    "\n",
    "    # 输出ESP32的响应信息\n",
    "    print(img_str)    \n",
    "    break\n"
   ]
  },
  {
   "cell_type": "code",
   "execution_count": 6,
   "metadata": {},
   "outputs": [
    {
     "name": "stdout",
     "output_type": "stream",
     "text": [
      "\n",
      "{'image': b'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'}\n"
     ]
    }
   ],
   "source": [
    "import requests\n",
    "from io import BytesIO\n",
    "import base64\n",
    "\n",
    "def processImage(in_file, saveImg=True,resaize = False):\n",
    "    try:\n",
    "        if \"gif\"  in in_file:\n",
    "            im = Image.open(in_file)\n",
    "        else:\n",
    "            im = Image.open(in_file)\n",
    "    except IOError:\n",
    "        print(\"Cant load\", in_file)\n",
    "        sys.exit(1)\n",
    "    # 截取文件名\n",
    "    filename = in_file.split('.')[0]\n",
    "\n",
    "    i = 0\n",
    "    arr_name_all = ''  # 存取数组\n",
    "    arr_size_all = ''  # 存储数组容量\n",
    "\n",
    "    with open(filename + '.h', 'w', encoding='utf-8') as f:  # 写入文件\n",
    "        f.write('#include <pgmspace.h> \\n\\n')\n",
    "  \n",
    "        #if \"gif\"  in in_file:\n",
    "            #im.putpalette(mypalette)\n",
    "        new_im = Image.new(\"RGB\", im.size)\n",
    "        new_im.paste(im)\n",
    "\n",
    "        # 缩放图像，\n",
    "        if resaize:\n",
    "            width = new_im.size[0]  # 获取原始图像宽度\n",
    "            height = new_im.size[1]  # 获取原始图像高度\n",
    "            new_width = 10  # 等比例缩放后的图像高度，根据实际需要调整\n",
    "            # print(width, \" \", height)\n",
    "            if width > new_width:\n",
    "                ratio = round(new_width / width, 3)  # 缩放系数\n",
    "                new_im = new_im.resize((int(width * ratio)+1, int(height * ratio)+1), Image.ANTIALIAS)\n",
    "                print(\"new size w,h\",int(width * ratio), int(height * ratio))\n",
    "            \n",
    "        # 获取图像字节流，转16进制格式\n",
    "        img_byte = BytesIO()  # 获取字节流\n",
    "        new_im.save(img_byte, format='jpeg')\n",
    "    return img_byte.getvalue()\n",
    "\n",
    "\n",
    "import os\n",
    "from PIL import Image\n",
    "import requests\n",
    "import base64\n",
    "\n",
    "resize_pic_dir = \"./pics_resize/\"\n",
    "pic_name =\"openaijpg.jpg\"\n",
    "\n",
    "\n",
    "\n",
    "\n",
    "#img = cv2.imread(resize_pic_dir+pic_name)\n",
    "\n",
    "name = pic_name#resize_pic_dir+pic_name\n",
    "\n",
    "img_data = processImage(name)\n",
    "\n",
    "# 将字节流转换为Base64编码的字符串\n",
    "#print(img_data)\n",
    "\n",
    "\n",
    "img_str = base64.b64encode(img_data)\n",
    "data = {'image': img_str}\n",
    "# 构造POST请求，发送图片字符串到ESP32的IP地址\n",
    "url = 'http://192.168.43.153/upload_image'\n",
    "response = requests.post(url, data=data)\n",
    "\n",
    "# 输出ESP32的响应信息\n",
    "print()\n",
    "print(data)    \n",
    "\n"
   ]
  },
  {
   "cell_type": "code",
   "execution_count": 4,
   "metadata": {},
   "outputs": [],
   "source": [
    "import requests\n",
    "from PIL import Image\n",
    "from io import BytesIO\n",
    "import base64\n",
    "def upload_pic(pic_file_name):\n",
    "    \n",
    "    im = Image.open(pic_file_name)\n",
    "    img_byte = BytesIO()  # 获jpg图片取字节流\n",
    "    im.save(img_byte, format='jpeg')\n",
    "    img_data = img_byte.getvalue()\n",
    "    img_str = base64.b64encode(img_data)\n",
    "    data = {'image': img_str}\n",
    "    print(data)\n",
    "    # 构造POST请求，发送图片字符串到ESP32的IP地址\n",
    "    url = 'http://192.168.43.153/upload_image'\n",
    "    response = requests.post(url, data=data)\n",
    "    # 输出ESP32的响应信息\n",
    "    print(response.text)    \n"
   ]
  },
  {
   "cell_type": "code",
   "execution_count": 27,
   "metadata": {},
   "outputs": [
    {
     "name": "stdout",
     "output_type": "stream",
     "text": [
      "{'image': b'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'}\n",
      "Image received\n"
     ]
    }
   ],
   "source": [
    "name = \"a2_pil2.jpg\"\n",
    "upload_pic(name)"
   ]
  },
  {
   "cell_type": "code",
   "execution_count": 26,
   "metadata": {},
   "outputs": [
    {
     "data": {
      "text/plain": [
       "'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'"
      ]
     },
     "execution_count": 26,
     "metadata": {},
     "output_type": "execute_result"
    }
   ],
   "source": [
    "\"\"\"/9j/4AAQSkZJRgABAQAAAQABAAD/2wBDAAgGBgcGBQgHBwcJCQgKDBQNDAsLDBkSEw8UHRofHh0aHBwgJC4nICIsIxwcKDcpLDAxNDQ0Hyc5PTgyPC4zNDL/2wBDAQkJCQwLDBgNDRgyIRwhMjIyMjIyMjIyMjIyMjIyMjIyMjIyMjIyMjIyMjIyMjIyMjIyMjIyMjIyMjIyMjIyMjL/wAARCADIAMgDASIAAhEBAxEB/8QAHwAAAQUBAQEBAQEAAAAAAAAAAAECAwQFBgcICQoL/8QAtRAAAgEDAwIEAwUFBAQAAAF9AQIDAAQRBRIhMUEGE1FhByJxFDKBkaEII0KxwRVS0fAkM2JyggkKFhcYGRolJicoKSo0NTY3ODk6Q0RFRkdISUpTVFVWV1hZWmNkZWZnaGlqc3R1dnd4eXqDhIWGh4iJipKTlJWWl5iZmqKjpKWmp6ipqrKztLW2t7i5usLDxMXGx8jJytLT1NXW19jZ2uHi4+Tl5ufo6erx8vP09fb3+Pn6/8QAHwEAAwEBAQEBAQEBAQAAAAAAAAECAwQFBgcICQoL/8QAtREAAgECBAQDBAcFBAQAAQJ3AAECAxEEBSExBhJBUQdhcRMiMoEIFEKRobHBCSMzUvAVYnLRChYkNOEl8RcYGRomJygpKjU2Nzg5OkNERUZHSElKU1RVVldYWVpjZGVmZ2hpanN0dXZ3eHl6goOEhYaHiImKkpOUlZaXmJmaoqOkpaanqKmqsrO0tba3uLm6wsPExcbHyMnK0tPU1dbX2Nna4uPk5ebn6Onq8vP09fb3+Pn6/9oADAMBAAIRAxEAPwDHVKeEp6rTwtYmwwLTwlSBacFoAiCU7ZUoSnBaQEGyl2VNspdlAEGytWx8P3d5Ctwxjt7cn5ZZTjd/ujqadomnDUdVihf/AFI+eU/7I6/4fjReeIZtT8T6pZeXstrDyUhI6YZN2BUTlyrQ0pw5nZm5Z+C7CZf3mqs3tGgX+ZNaI8AaRj/j7vT9JI//AIiuJvdXvrK90lbRGcTXYilUf88yjZP4fe99tdZFqr7Rlz+dY/WHFJtGzwt20mWG+H+m4/d3t2D/ALZRv5KKzrz4fXcal7O7jnP9yRdh/DqPzxWlBqTGQZc4rqLGXz4R61rSrxm7NWMatGVNXueNXNnPZ3DwXMTxSp95X6iotlemeNtJFzpi30a/vrY8kDkoev5dfz9a862+1avRmSd0QbKClT7KClIZWKUhSrBSkK0AVivamFaslKYVxQBWZKjKVaZajK0wKjLxRU7LRTEW1WpAtKFqQLxUjGhaeFpwFPC0ARhacFp4UU7bQBHtp0cLyuERGdj/AAqMk04Lk8DJqv4i1Z9Lszpto+x5BieReC3tn0/pVRjzGtKm6jsjUttb0zQbO7S6ulS+m+Ty1BYqvfoOM+h/u1z03irTXlJzMPcxjH8642V8mqsh96p0YN3kelThGmrJXPRbXW9Cl/12sNbn3tmb+VXBrXh4dPEn52UleUZ5604NVewo/wApp7rfY9Zj1nSQN8XiCCTHYwSof1Wun0HxZp25UbULbHqz7f8A0LFeBKxqzBKwYYNCw1G+34l+wpzVpXPqWS4tLq0ZJSPJlQoc8BgewJ615Pd2jWd5NbOctE5Qn1x3rm9F16/01t1tdSR56gNwfqK2f7ba5m3zxxtu+8Au0e+MdK1+rJq8Wc7yqSvySJNtBWp5UVWUoSUcB0J64P8AUdPwpmK5GrOzPLlFxdmQlaQrU2KTbQSQFaYy1YK0wrQBWZaiZatstRMtAFRloqVlopgW1FSKKRVqRRSAAKcBSgU4CgBMUu2nAVbsYFllLuMpGNxB6E9h/nsDQUld2Q60tPJjGoXTrBaxncHfqzdtq9+a4rV9Rsprl3t7Yyf9Nbhsk/8AARwPxzXYXVheeKLwW8T+Tp9udskxHGfRR3P6D9Duab4d0TSgphsI55VOfOuFEr59eeB/wEColN7I76coUFrqzxwXrBiIzGntGgX+VXrTXLm3YEeU4HaSJX/mK92juoTHse3heMjG1kBH06Vjar4E8N67EfIhTTbvHyyWw2pn3Tpj8j71lZPZnTDMUnaUdDhYPF2mrbbbzw/pl256l4EX+S1SuNW8LXeRN4Tt0HrbzvER+XH6Vj+IdC1DwzqbWV/HgnmKUfclX1U/5IrK83PenzTXU64xoz95LfzZuT6f4Uugxt31OxkPRXKTRr/6C1Ul8OySufsN5a3X91C3lO34NgfgGNUPM96ckxU8GqVeaNIwgti8ba6spfKu7eWCX+7KhU/kavwydKfpviG7gg+zTeXdWv8AzwuU8yP8Aen4YNaxt9F1GPzLTzbGbvEx8yI/Q9R+NddPFx2loaRcl008i5ZyedpcZPJicr+B5H8mqTFR6XZ3ECXETgMhTcrLyuQc5/Ld1qwkbSHailj6KM1FSScro+fx8OSs/MiwKaRVmSCWIZlikT/eUiosVBxkRFMIqUrTSKBEDComWrDComFAFdgKKewopgWQKkApq9KeKQxwFOxQKUUgFxWpZWj3Kw2aEo02ZpXHVUHA/rj/AHhT7PTraFI59Rcjzf8AU26nDSZ4yfQVpRyJa2F1fBQvnEtGuMBY1+VFx/nqKh1Fr5G8ISjZ232M/VNWFhiysEWKKEbQcZx/k9T61zc+pXErHfcSN7FjVzT8XGoGSbDLGC7F+menP51dk1SxTgXUA+jjFcPK6vvNnp80aD5Yw5n1Zzbag8JyGZfcV2Gn6lJBZwK7kvtBbcxPPWsyS7Vk3o4ZT3U5BqnJdEEitadHld7nLicT7VKPLax1GqpaeK9Fk0q7ZUlPzW07D/VSdj9Ox9q8KuEltLqa2nTZNC7RyJ/dZTgj8xXpcd+yMPmrkfH6Btcg1BFIF9bLK7djIpKN/wCgBv8AgVb20JwlVxly9GYG/NPVs1TD1NG3NS0enGZpwPitW0diwwaxYWrVtn2xl/QVnLRHZQd5Hc+EmhutYa3cllt4DLKd3GScKuPf5jXpenQWckYQTKAv/LNMKBXhng3VPIl1qXd8xaNfw+atCfxRLG5w5x9a4Jyn7WzV0uhyYrD/AFiTlzW7HuDwWiIxEufX585rGuvDmlapGzRBI5v70Y2nP06H/PNeSp4vlB+/+ta2m+Ln85SJCD7U/ayhLmULLyZxvLLrSd2XtW0i50i58qdcqT8kgHDf59KzSK7f+1YNcsTb3QBJGNw6/X61yF5avZ3TwSfeU8H1HY16GGxMa10t0efVoTpO00VGFRMKmNRsK6jErtRTmHNFMROKkA96YoqRaQDwKntxGgeeYAxxDcVP8Tdl/r9AahFQ6pMIbOGAfef9439B+Qz/AMCrKrLlg2dGGp+0qpPYdBfTXmqNM7b3VGcexxhf/HiK6DxHILbTY7aP7gKxqP8AZUf/AKq5XRXAulc/xzwQ/wDfUgP/ALLXYX9vDdlfPTftyRz0rnpxfsmluzuxFWMa0XLZHCOs08nlRI7sf4VqjfWd3bx75YHVfXqB+VdwLeC1DeTEqbuuO9U7k7gwPOeDmlGhZas0eZ2l7sdPxOEhvprOXfGx5+8p6NW0LpZ4klQ4DDj/AArA1GMQXk0S/dVjgeg7VY02UmyYf3XIH6VrTvew8wjGdNVVuaXnYPWsnxfKz6ZpO7JxJcAZ9P3f9d1Wi/pWF4puRJqFvbhmP2a3VGB6BmZnP4/OB/wGt7Hl0PjTMcE1NG3NVgakQ1LR6UZGjC/StFZMWz/SseNsVdilyhX14rOUbnVRq8rG6FdmHVL63zjz4tw+qnP9TVm5kZic5rnjcfY9Zt5ugDbW+h4NdLJFkkVnUhaV+5kp3vHszPLsKmt7lo5Ac0rwVXZChpWTIu07o7rQtYKso3fnXXXwTUNOFwo/fQrz7p3/AC6/nXkthcmJx7V3+gawQVXr6jt+NcnJKlVU4G1VRrUmpboa1Rt0qebYZXKDCbjsB9O1QsK9g+fZA4opWooETrUi1GtSLQA8UzUdNe8H2qOdVVmKrHIu3AAGAOeR2z7U/ip7/wDdxQRdNsQJ/H5v61lVinHU6cNOUJXiYe2TS7eOafaAt1G+Q277nP8AWui8QXt1ZvGYJMI2R90HkVyupOX0p/8AZuD/AOgitzTbmLxB4dWKST/SIQI3PdWH3W/4EP61m4P2donU5r2kZzV11E0zU2u45IpnDTKcjjG5aLyZIo2kdtqLySTXO39rc2Un7xGTHIcdD9DWbNLc3ZwzyzEdAWLGs4TaVmdNTAQqS9pCVosqXkxuLmWX+8xI/pV20jMVmueC3zGnwaU+RJcjAHSP1+tWJ9kcbzTyCKFPvyN29h6n2ranF7s5sbXjJKlDVIqTXEdpbyXc2CkfROnmN/Cv49/YGuMkleeaSaRsvI5djjqSeTVzVtVbU5VCKY7aP/Vxnr/vN/tH+gA9aoD0rY56UeXUeDT0PNRinrSOlMsq3FTxP82Kqg4FSIfmosHPZlDV1+Ykeua6jS5/tmmQTZyxTa31HFYGoRrIgz3qrp2r3enK1tblNjNu+ZckfSplDmjZEuqoVLvZnaG3Zui0x9PBGXbA9hmkTz7TVNLupZS0F3EUwW6SKfm47feQ/jXQ3EAZcgcVk6bi9SnXTXuowLSGzjuAHheT2ZsA16lokEN3oc9rDDHEXXdGiDHzD7v59Mn1rzKWExTBq7nwtqGzaC2KTSjqjJyc00yswqM1qa3biDU5dgAST96g/wB7/wCvmsw10p3RwvTchaih6KYiYdqkWo1608UATQx+bMkfTewXP1pdSl8yaaToCSaydT8R3OhSxpawWzu6by80W4ryR8vp0/WsN/GMj5+0WseD1MZIP6mlOlKSVjtoUrR5m9y5cMX0u5X+7MrfmG/wrDs9UudJvRc2zc9GQjIdfQ1PBrdtfSyW0Pmr5iEkSKB0yexNZtyCGNLlcdGbW0szuLbxjpt1Gond7WU8FXBYfgwH8wKbPrmlKuft0OP9nn+VeePUTUKKMJQ7HVX/AIpsowwtYZLhuxf5E/xP6fWuU1DUbvUpA9xJkLwiLwq/Qf160wjJpu2qSIUUiDbzTglTBPapBHQaJlfZTwuKsLFUghpWNEytinJndVoW5ND24jUs5xihCbKN3KoAU/WsiIg3Qz0zV2fy5HLvdW8YJ4y5b/0AGum8NfDr/hII/tKarGEj2llMLYbPof8AEVaRz1Zpuxu69Zu/gTS7+FG/0V/PZgpO1XbZ+HISr9jdR3dgkpYDK85riPGV7f6d4hu9Jh1G7FiIoY/JWZhGy+WuRtzjG7celZltK6WqnJJ9zRKlzdSqbWp6BdiJ8hXUn61f8PpMbkKhX/vsV5rHql7E2UkRSOh8lCR+JGaVtX1OYFJtQu5EP8DzsR+Wan6uurOmPIfQWrWtvNp8ElzdeQ8Wckxlht9z26frXKPs3ZjlSVD9106N/KvLrc4fPf1rv9Gk8zSYjn7pK/1/rWjhGMbIxr0YKHOty23SihulFZnETLT1pi09aAOQ8VSZ1XHOFjUfp/8AXrmZzxXS+LU26mjdniU/0/pXNsM9a6I7HoRfuIrWkr2d5HcjPyNkj1Fb95EGVZojuikG5GHQisYxjFRaHqMtrfCyd820jYZGGQG9fb8Kicb6mftLaFx0NRFa1LtYwxDIyH/ZOR+tZkhQHgsf+A4/rWdhOpF9RhWgJmmbzngfmaepkb+JR+GadiOeJII6lWL2qII56yN+HFPES9xu/wB47qLB7REgEecbwfpzT96g8L+JpgHFKBRYTqvoOMjEYGB9KzNU4txk/wAVaeKy9ZOI4x9aaM229zDjTzbhUHdsV7d4WiNr4dVFJUSSbTjuFUY/9CNeRaJbefqSY52nd/n8a9ssYvJ0u0i7iLd/30S38iPyolsQjzD4iRhPFSPjHmWqN+rL/wCy1m2ybrdPpXT/ABMtfm0y8CD/AJaQs/5ED9Wrl9PfMe30q4PQ3p7DzBSeTVorRtqzZMjiBVhXeeHudIH/AF0b+S1xITmu60KPZo0PbcS39P6VE9iqz/dF1qKGorE4CRalU1EtSLQBzPjCLL2k3/TMp+RJ/wDZq5R+BXe+JLVrrSdyLloX3f8AAT1/9lrg5wR2reDvE64O8EQGTHNZjRGW+/d8Fm/WrspwtR6cm+7DdRyabM2rs6RwbmzjnblyNrn/AGhwf8fxrJmXDmtDRpjPcXNseUk+ZcHoc4H58D67agvoTHMRis2rMyZQxUkZFMIxQDigRaWn1Cr1MHBpDHDNOUFmCgZY9h1rX8PaTFqdy0l0zJZQ8ylerf7IrpX8aafojfZtJ0OzVVP35BuJrKU7OyVzSMLq7OHaJ4/9YjJ/vLisHW3zKsf91c17gL+x8beH5Dc2cUV3AQx8obcj2ryDVvD1+fEFxZLESI3wJCPlZcDDfiMH8adOpzOzFOnyq5P4M0x53VsfNLJtX/P1r03Vb+HTdPur5x+5t48hemQOFX8eBVHQNFGkWaSOuw7NsYPXpgt/nuayPiHcNF4aSFQP9IuER8j+EAt/MLVvV2M0jgrvUbrWpJb7VJpJGPEaqcKnsq9h/nrUen/K5Wpbe2EsEYboO1IVW2usdFwK37HSuxoUqjmhCGUHtUirTGhyR7mArvbWLyLGCIjG2Mfn1/rXK6Pp73l0ny/u1ILt6Cuxc7iT3NZVOxNaXupETUU1zRWRzEq1IKiU1IDQMWaSaK2mkg/1yxsy8dTg4ryy6NwzsWmfr0Kq364zXqqnBBzgjmuO8SaMbeUzQp+4k5XH8J7rWtN9DWlbY4txcsOJB/3wtb3hKz/tKa/065YfvrZljfbtMb8YIx9T+VZcqHBx1qXQdWfR9ZS5KK21uUfOGGMYP4VbVyuVvQrW9xc6dMrcpcW7mKVT6g4Kn/PvXctpX9vaTFfRYgmI+ZJflDcDkHpWppV/purXU1xHp9tBdnlnUKzOvHOfvce9bEyloM/3TWVWTj0Fya8slqeWXunz2bkSbOPR1P8AKst7lFOM122sf6xq5S6Tk1EZ3FKnZlIXaZwGGfrViOK/nCtDbSGNmC+ZtyoJ962fDORdIfRq9FnPnWUO45wxTHbA+b+tS6lnYfsdE7nPpF/Zmhx2y9SNzn1auVnJaVj1rr9U5hrlnT5jWUX1NpLobvg6/NpqSqx/dyjYwPvXYARRqsghjM8bNEZHXccLgr7dGx+FcBpilLlGHY13qNvgkY93Q/mp/wDiaadp3Jmv3bB3Z3LsxLHkk1y3jfTLzUdNtmtIjL9ndnaNfvdOCB3rp80ma2TszmTs7nk8CiOMK3ylBhgeCK6fwfotvLaXGralbxSpc52JMgYLCn8WCOpxn8B61ueIL2107THvLq0jutrKI4pEDbn7f1P4VxWo+MtX1WxewSFLW2kG1hGNvy+nH5Vsm5I01mjni0sztNFJLH5js2xGwqjPAAqeJb3P/HzN+Y/wq1BAEVRxxWjZ2j3EyxRoWdjwBWiNFE2vCbXey4EskjQkD77s3zZ4PJx0DV0THApltbJY2qQJgsPmdh/E1DGsJu7MakuaWhGxoprGioMyVDUoNV1NSq1AyYGn/K8bRyIskbfeR+hqENTwaAuY134Ssrly0E727H+Fl3L+Y/wrOfwRIx5ubVx6kN/8TXWZp2RV+0ZftJGZomiJo6u29JJnG3KDhV9Bn8PyFbcYDxXCnqE3A++QP6mq+antDm4CZ++Cv4kYH64rObctwUnzXZx+sL+8auXuF5auv1qPErfWuTuhtY5rOB0TLPhxwLwL716IjZsP92T+at/hXl+jTrBfl5HWOIdXc4UfjXo1hf2V3p2ILpJXaTOFBxgK359aU4u9y4u8bGfqGDGa5yQfO1dDenMZNc/J981MRSL+nD94n1rtYOdNY996/wAm/wAa4rTs+av1rtLfjTX/AN5f6018SJn8DGZopuTSZrY5DP17T5NU0iW1hfZLlZEJ6bh/9bP51yMXhDVwfmSH6meMf1rvSaaTVxm4lKbRy9t4PuCwN1dQRL6A7z+lb1pZW2nxbLZCXPDSv1P0HarBamFqbqN6A5t6AxqJjSs1RsaggYxopjNRTAepqRTVdXqRWpAWQaeGquGp4agCfdShqhDc0u6gCbcKZPcfZbeW4A3eUhcDOMkDNNDVR1q5ittGuHlkWPzF2Jnq59AO9OKu7FRTbsjjNW1q81O6kmaZogxzsiAx+oNc9PI7yYaWdvrJ/gBWiy71LIdy98VlygmU8GunkS6HRJSTs0RAItwCV3e7HNdLZ3k9qA8EmHVdq7uQBXLkHza3UJHHqh/mKdlaxcdEzUPiO8K4lton/wBpJNv6GokvZp2ylm7Z7LIrf1rMl4U1nNneaxdKAr33OrXWbrT3A+wxhx/z0uFH6V0mjeKZL0R2NykHmOxYGDOF44+p/wAa8xj+9W7oDlNYszn/AJbLn8xTVOC6DclZqx6Zu/OkLVHu96TdWJxEhamlqYWppagB5amM1MLU0tQApaomakZqjZqABmoqJm4opiBZ0H8Y/Oni4j/56L+dFFAx63Ef99fzp4uE/vCiikA77Sn96nC5j/vUUUAMuL2K2tJp2+YRpu2/3ugH6muH1LUn1G58+dQzgYHXge3PFFFdFPTY6KLa2M2W9j2+XsKDOfk4FV5J12Z6/WiituZvc6PaSluVYxumXPrW5EoeX2CH+YooqQ6CTRsrAIgK961dI0q/uir22j/ak6ZazDqD7tt/maKK2jFWO6nFcjdixqOkSWc1zHfaUsd0wUxLDEgReeT8o/SqVmiRXUTCMq6fN0xzmiiqcVys6HSg6d2uh3TuNxwcjsfaml6KK8tnzTG7qaXoooAaXphaiigCItTGaiimIhZqKKKYj//Z\"\"\"\n"
   ]
  },
  {
   "cell_type": "code",
   "execution_count": 32,
   "metadata": {},
   "outputs": [
    {
     "name": "stdout",
     "output_type": "stream",
     "text": [
      "{'image': b'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'}\n",
      "Image received\n"
     ]
    }
   ],
   "source": [
    "name = \"a2_pil2.jpg\"\n",
    "upload_pic(name)"
   ]
  },
  {
   "cell_type": "code",
   "execution_count": 29,
   "metadata": {},
   "outputs": [
    {
     "name": "stdout",
     "output_type": "stream",
     "text": [
      "{'image': b'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'}\n",
      "Image received\n"
     ]
    }
   ],
   "source": [
    "name = \"./frame_image/your_file_0000010.jpg\"\n",
    "upload_pic(name)"
   ]
  },
  {
   "cell_type": "code",
   "execution_count": 31,
   "metadata": {},
   "outputs": [
    {
     "name": "stdout",
     "output_type": "stream",
     "text": [
      "{'image': b'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'}\n",
      "Image received\n"
     ]
    }
   ],
   "source": [
    "name = \"./frame_image/your_file_0000007.jpg\"\n",
    "upload_pic(name)"
   ]
  },
  {
   "cell_type": "code",
   "execution_count": 21,
   "metadata": {},
   "outputs": [
    {
     "name": "stdout",
     "output_type": "stream",
     "text": [
      "{'image': b'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'}\n",
      "Image received\n"
     ]
    }
   ],
   "source": [
    "name = \"./pics_resize/your_file_0000001gimp.jpg\"\n",
    "upload_pic(name)"
   ]
  },
  {
   "cell_type": "code",
   "execution_count": 12,
   "metadata": {},
   "outputs": [],
   "source": [
    "name = \"./frame_image/12345.jpg\"\n",
    "upload_pic(name)"
   ]
  },
  {
   "cell_type": "code",
   "execution_count": null,
   "metadata": {},
   "outputs": [],
   "source": [
    "#pic_file_name = \"12345.jpg\"\n",
    "path = \"./frame_image/\"\n",
    "for i in os.listdir(path):\n",
    "    upload_pic(path+i)"
   ]
  },
  {
   "cell_type": "code",
   "execution_count": 7,
   "metadata": {},
   "outputs": [],
   "source": [
    "bstr = b\"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\""
   ]
  },
  {
   "cell_type": "code",
   "execution_count": 26,
   "metadata": {},
   "outputs": [],
   "source": []
  },
  {
   "cell_type": "code",
   "execution_count": 9,
   "metadata": {},
   "outputs": [
    {
     "name": "stdout",
     "output_type": "stream",
     "text": [
      "Image received\n"
     ]
    }
   ],
   "source": [
    "\n",
    "data = {'image': bstr}\n",
    "url = 'http://192.168.43.153/upload_image'\n",
    "response = requests.post(url, data=data)\n",
    "print(response.text)    "
   ]
  },
  {
   "cell_type": "code",
   "execution_count": null,
   "metadata": {},
   "outputs": [],
   "source": []
  }
 ],
 "metadata": {
  "kernelspec": {
   "display_name": "base",
   "language": "python",
   "name": "python3"
  },
  "language_info": {
   "codemirror_mode": {
    "name": "ipython",
    "version": 3
   },
   "file_extension": ".py",
   "mimetype": "text/x-python",
   "name": "python",
   "nbconvert_exporter": "python",
   "pygments_lexer": "ipython3",
   "version": "3.8.13"
  },
  "orig_nbformat": 4
 },
 "nbformat": 4,
 "nbformat_minor": 2
}
