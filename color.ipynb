{
 "cells": [
  {
   "cell_type": "code",
   "execution_count": 14,
   "metadata": {},
   "outputs": [
    {
     "name": "stdout",
     "output_type": "stream",
     "text": [
      "Yellow Arduino color: 0x7FCC0\n"
     ]
    }
   ],
   "source": [
    "def rgb_to_arduino_color(r, g, b):\n",
    "    # Ensure the RGB values are within the valid range (0-255)\n",
    "    r = min(max(r, 0), 255)\n",
    "    g = min(max(g, 0), 255)\n",
    "    b = min(max(b, 0), 255)\n",
    "\n",
    "    # Convert the RGB values to a 16-bit hexadecimal value\n",
    "    arduino_color = (r << 11) | (g << 5) | b\n",
    "\n",
    "    # Format the value as \"0xRRGGBB\"\n",
    "    arduino_color_str = f\"0x{arduino_color:04X}\"\n",
    "    return arduino_color_str\n",
    "\n",
    "# Yellow color RGB values\n",
    "r_yellow, g_yellow, b_yellow = 255, int(0.4*255), 0\n",
    "\n",
    "# Convert to Arduino format\n",
    "yellow_arduino_color = rgb_to_arduino_color(r_yellow, g_yellow, b_yellow)\n",
    "\n",
    "print(\"Yellow Arduino color:\", yellow_arduino_color)"
   ]
  },
  {
   "cell_type": "code",
   "execution_count": null,
   "metadata": {},
   "outputs": [],
   "source": []
  }
 ],
 "metadata": {
  "kernelspec": {
   "display_name": "base",
   "language": "python",
   "name": "python3"
  },
  "language_info": {
   "codemirror_mode": {
    "name": "ipython",
    "version": 3
   },
   "file_extension": ".py",
   "mimetype": "text/x-python",
   "name": "python",
   "nbconvert_exporter": "python",
   "pygments_lexer": "ipython3",
   "version": "3.8.13"
  },
  "orig_nbformat": 4
 },
 "nbformat": 4,
 "nbformat_minor": 2
}
